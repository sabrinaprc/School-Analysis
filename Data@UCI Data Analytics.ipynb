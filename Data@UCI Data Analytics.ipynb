{
 "cells": [
  {
   "cell_type": "code",
   "execution_count": 5,
   "id": "a18740e0",
   "metadata": {},
   "outputs": [],
   "source": [
    "import pandas\n",
    "import matplotlib\n",
    "import matplotlib.pyplot as plt\n",
    "import numpy\n",
    "import seaborn"
   ]
  },
  {
   "cell_type": "code",
   "execution_count": 6,
   "id": "fe905435",
   "metadata": {},
   "outputs": [],
   "source": [
    "math = pandas.read_csv(\"student-mat.csv\", delimiter = \";\")\n",
    "port = pandas.read_csv(\"student-por.csv\", delimiter = \";\")"
   ]
  },
  {
   "cell_type": "code",
   "execution_count": 93,
   "id": "5928ffc6",
   "metadata": {},
   "outputs": [
    {
     "data": {
      "text/html": [
       "<div>\n",
       "<style scoped>\n",
       "    .dataframe tbody tr th:only-of-type {\n",
       "        vertical-align: middle;\n",
       "    }\n",
       "\n",
       "    .dataframe tbody tr th {\n",
       "        vertical-align: top;\n",
       "    }\n",
       "\n",
       "    .dataframe thead th {\n",
       "        text-align: right;\n",
       "    }\n",
       "</style>\n",
       "<table border=\"1\" class=\"dataframe\">\n",
       "  <thead>\n",
       "    <tr style=\"text-align: right;\">\n",
       "      <th></th>\n",
       "      <th>school</th>\n",
       "      <th>sex</th>\n",
       "      <th>age</th>\n",
       "      <th>address</th>\n",
       "      <th>famsize</th>\n",
       "      <th>Pstatus</th>\n",
       "      <th>Medu</th>\n",
       "      <th>Fedu</th>\n",
       "      <th>Mjob</th>\n",
       "      <th>Fjob</th>\n",
       "      <th>...</th>\n",
       "      <th>famrel</th>\n",
       "      <th>freetime</th>\n",
       "      <th>goout</th>\n",
       "      <th>Dalc</th>\n",
       "      <th>Walc</th>\n",
       "      <th>health</th>\n",
       "      <th>absences</th>\n",
       "      <th>G1</th>\n",
       "      <th>G2</th>\n",
       "      <th>G3</th>\n",
       "    </tr>\n",
       "  </thead>\n",
       "  <tbody>\n",
       "    <tr>\n",
       "      <th>0</th>\n",
       "      <td>GP</td>\n",
       "      <td>F</td>\n",
       "      <td>18</td>\n",
       "      <td>U</td>\n",
       "      <td>GT3</td>\n",
       "      <td>A</td>\n",
       "      <td>4</td>\n",
       "      <td>4</td>\n",
       "      <td>at_home</td>\n",
       "      <td>teacher</td>\n",
       "      <td>...</td>\n",
       "      <td>4</td>\n",
       "      <td>3</td>\n",
       "      <td>4</td>\n",
       "      <td>1</td>\n",
       "      <td>1</td>\n",
       "      <td>3</td>\n",
       "      <td>4</td>\n",
       "      <td>0</td>\n",
       "      <td>11</td>\n",
       "      <td>11</td>\n",
       "    </tr>\n",
       "    <tr>\n",
       "      <th>1</th>\n",
       "      <td>GP</td>\n",
       "      <td>F</td>\n",
       "      <td>17</td>\n",
       "      <td>U</td>\n",
       "      <td>GT3</td>\n",
       "      <td>T</td>\n",
       "      <td>1</td>\n",
       "      <td>1</td>\n",
       "      <td>at_home</td>\n",
       "      <td>other</td>\n",
       "      <td>...</td>\n",
       "      <td>5</td>\n",
       "      <td>3</td>\n",
       "      <td>3</td>\n",
       "      <td>1</td>\n",
       "      <td>1</td>\n",
       "      <td>3</td>\n",
       "      <td>2</td>\n",
       "      <td>9</td>\n",
       "      <td>11</td>\n",
       "      <td>11</td>\n",
       "    </tr>\n",
       "    <tr>\n",
       "      <th>2</th>\n",
       "      <td>GP</td>\n",
       "      <td>F</td>\n",
       "      <td>15</td>\n",
       "      <td>U</td>\n",
       "      <td>LE3</td>\n",
       "      <td>T</td>\n",
       "      <td>1</td>\n",
       "      <td>1</td>\n",
       "      <td>at_home</td>\n",
       "      <td>other</td>\n",
       "      <td>...</td>\n",
       "      <td>4</td>\n",
       "      <td>3</td>\n",
       "      <td>2</td>\n",
       "      <td>2</td>\n",
       "      <td>3</td>\n",
       "      <td>3</td>\n",
       "      <td>6</td>\n",
       "      <td>12</td>\n",
       "      <td>13</td>\n",
       "      <td>12</td>\n",
       "    </tr>\n",
       "    <tr>\n",
       "      <th>3</th>\n",
       "      <td>GP</td>\n",
       "      <td>F</td>\n",
       "      <td>15</td>\n",
       "      <td>U</td>\n",
       "      <td>GT3</td>\n",
       "      <td>T</td>\n",
       "      <td>4</td>\n",
       "      <td>2</td>\n",
       "      <td>health</td>\n",
       "      <td>services</td>\n",
       "      <td>...</td>\n",
       "      <td>3</td>\n",
       "      <td>2</td>\n",
       "      <td>2</td>\n",
       "      <td>1</td>\n",
       "      <td>1</td>\n",
       "      <td>5</td>\n",
       "      <td>0</td>\n",
       "      <td>14</td>\n",
       "      <td>14</td>\n",
       "      <td>14</td>\n",
       "    </tr>\n",
       "    <tr>\n",
       "      <th>4</th>\n",
       "      <td>GP</td>\n",
       "      <td>F</td>\n",
       "      <td>16</td>\n",
       "      <td>U</td>\n",
       "      <td>GT3</td>\n",
       "      <td>T</td>\n",
       "      <td>3</td>\n",
       "      <td>3</td>\n",
       "      <td>other</td>\n",
       "      <td>other</td>\n",
       "      <td>...</td>\n",
       "      <td>4</td>\n",
       "      <td>3</td>\n",
       "      <td>2</td>\n",
       "      <td>1</td>\n",
       "      <td>2</td>\n",
       "      <td>5</td>\n",
       "      <td>0</td>\n",
       "      <td>11</td>\n",
       "      <td>13</td>\n",
       "      <td>13</td>\n",
       "    </tr>\n",
       "    <tr>\n",
       "      <th>...</th>\n",
       "      <td>...</td>\n",
       "      <td>...</td>\n",
       "      <td>...</td>\n",
       "      <td>...</td>\n",
       "      <td>...</td>\n",
       "      <td>...</td>\n",
       "      <td>...</td>\n",
       "      <td>...</td>\n",
       "      <td>...</td>\n",
       "      <td>...</td>\n",
       "      <td>...</td>\n",
       "      <td>...</td>\n",
       "      <td>...</td>\n",
       "      <td>...</td>\n",
       "      <td>...</td>\n",
       "      <td>...</td>\n",
       "      <td>...</td>\n",
       "      <td>...</td>\n",
       "      <td>...</td>\n",
       "      <td>...</td>\n",
       "      <td>...</td>\n",
       "    </tr>\n",
       "    <tr>\n",
       "      <th>644</th>\n",
       "      <td>MS</td>\n",
       "      <td>F</td>\n",
       "      <td>19</td>\n",
       "      <td>R</td>\n",
       "      <td>GT3</td>\n",
       "      <td>T</td>\n",
       "      <td>2</td>\n",
       "      <td>3</td>\n",
       "      <td>services</td>\n",
       "      <td>other</td>\n",
       "      <td>...</td>\n",
       "      <td>5</td>\n",
       "      <td>4</td>\n",
       "      <td>2</td>\n",
       "      <td>1</td>\n",
       "      <td>2</td>\n",
       "      <td>5</td>\n",
       "      <td>4</td>\n",
       "      <td>10</td>\n",
       "      <td>11</td>\n",
       "      <td>10</td>\n",
       "    </tr>\n",
       "    <tr>\n",
       "      <th>645</th>\n",
       "      <td>MS</td>\n",
       "      <td>F</td>\n",
       "      <td>18</td>\n",
       "      <td>U</td>\n",
       "      <td>LE3</td>\n",
       "      <td>T</td>\n",
       "      <td>3</td>\n",
       "      <td>1</td>\n",
       "      <td>teacher</td>\n",
       "      <td>services</td>\n",
       "      <td>...</td>\n",
       "      <td>4</td>\n",
       "      <td>3</td>\n",
       "      <td>4</td>\n",
       "      <td>1</td>\n",
       "      <td>1</td>\n",
       "      <td>1</td>\n",
       "      <td>4</td>\n",
       "      <td>15</td>\n",
       "      <td>15</td>\n",
       "      <td>16</td>\n",
       "    </tr>\n",
       "    <tr>\n",
       "      <th>646</th>\n",
       "      <td>MS</td>\n",
       "      <td>F</td>\n",
       "      <td>18</td>\n",
       "      <td>U</td>\n",
       "      <td>GT3</td>\n",
       "      <td>T</td>\n",
       "      <td>1</td>\n",
       "      <td>1</td>\n",
       "      <td>other</td>\n",
       "      <td>other</td>\n",
       "      <td>...</td>\n",
       "      <td>1</td>\n",
       "      <td>1</td>\n",
       "      <td>1</td>\n",
       "      <td>1</td>\n",
       "      <td>1</td>\n",
       "      <td>5</td>\n",
       "      <td>6</td>\n",
       "      <td>11</td>\n",
       "      <td>12</td>\n",
       "      <td>9</td>\n",
       "    </tr>\n",
       "    <tr>\n",
       "      <th>647</th>\n",
       "      <td>MS</td>\n",
       "      <td>M</td>\n",
       "      <td>17</td>\n",
       "      <td>U</td>\n",
       "      <td>LE3</td>\n",
       "      <td>T</td>\n",
       "      <td>3</td>\n",
       "      <td>1</td>\n",
       "      <td>services</td>\n",
       "      <td>services</td>\n",
       "      <td>...</td>\n",
       "      <td>2</td>\n",
       "      <td>4</td>\n",
       "      <td>5</td>\n",
       "      <td>3</td>\n",
       "      <td>4</td>\n",
       "      <td>2</td>\n",
       "      <td>6</td>\n",
       "      <td>10</td>\n",
       "      <td>10</td>\n",
       "      <td>10</td>\n",
       "    </tr>\n",
       "    <tr>\n",
       "      <th>648</th>\n",
       "      <td>MS</td>\n",
       "      <td>M</td>\n",
       "      <td>18</td>\n",
       "      <td>R</td>\n",
       "      <td>LE3</td>\n",
       "      <td>T</td>\n",
       "      <td>3</td>\n",
       "      <td>2</td>\n",
       "      <td>services</td>\n",
       "      <td>other</td>\n",
       "      <td>...</td>\n",
       "      <td>4</td>\n",
       "      <td>4</td>\n",
       "      <td>1</td>\n",
       "      <td>3</td>\n",
       "      <td>4</td>\n",
       "      <td>5</td>\n",
       "      <td>4</td>\n",
       "      <td>10</td>\n",
       "      <td>11</td>\n",
       "      <td>11</td>\n",
       "    </tr>\n",
       "  </tbody>\n",
       "</table>\n",
       "<p>649 rows × 33 columns</p>\n",
       "</div>"
      ],
      "text/plain": [
       "    school sex  age address famsize Pstatus  Medu  Fedu      Mjob      Fjob  \\\n",
       "0       GP   F   18       U     GT3       A     4     4   at_home   teacher   \n",
       "1       GP   F   17       U     GT3       T     1     1   at_home     other   \n",
       "2       GP   F   15       U     LE3       T     1     1   at_home     other   \n",
       "3       GP   F   15       U     GT3       T     4     2    health  services   \n",
       "4       GP   F   16       U     GT3       T     3     3     other     other   \n",
       "..     ...  ..  ...     ...     ...     ...   ...   ...       ...       ...   \n",
       "644     MS   F   19       R     GT3       T     2     3  services     other   \n",
       "645     MS   F   18       U     LE3       T     3     1   teacher  services   \n",
       "646     MS   F   18       U     GT3       T     1     1     other     other   \n",
       "647     MS   M   17       U     LE3       T     3     1  services  services   \n",
       "648     MS   M   18       R     LE3       T     3     2  services     other   \n",
       "\n",
       "     ... famrel freetime  goout  Dalc  Walc health absences  G1  G2  G3  \n",
       "0    ...      4        3      4     1     1      3        4   0  11  11  \n",
       "1    ...      5        3      3     1     1      3        2   9  11  11  \n",
       "2    ...      4        3      2     2     3      3        6  12  13  12  \n",
       "3    ...      3        2      2     1     1      5        0  14  14  14  \n",
       "4    ...      4        3      2     1     2      5        0  11  13  13  \n",
       "..   ...    ...      ...    ...   ...   ...    ...      ...  ..  ..  ..  \n",
       "644  ...      5        4      2     1     2      5        4  10  11  10  \n",
       "645  ...      4        3      4     1     1      1        4  15  15  16  \n",
       "646  ...      1        1      1     1     1      5        6  11  12   9  \n",
       "647  ...      2        4      5     3     4      2        6  10  10  10  \n",
       "648  ...      4        4      1     3     4      5        4  10  11  11  \n",
       "\n",
       "[649 rows x 33 columns]"
      ]
     },
     "execution_count": 93,
     "metadata": {},
     "output_type": "execute_result"
    }
   ],
   "source": [
    "port\n",
    "#.iloc[i] to look at that row\n",
    "#.columns to look at columns"
   ]
  },
  {
   "cell_type": "code",
   "execution_count": 8,
   "id": "47704139",
   "metadata": {},
   "outputs": [
    {
     "data": {
      "text/plain": [
       "Index(['school', 'sex', 'age', 'address', 'famsize', 'Pstatus', 'Medu', 'Fedu',\n",
       "       'Mjob', 'Fjob', 'reason', 'guardian', 'traveltime', 'studytime',\n",
       "       'failures', 'schoolsup', 'famsup', 'paid', 'activities', 'nursery',\n",
       "       'higher', 'internet', 'romantic', 'famrel', 'freetime', 'goout', 'Dalc',\n",
       "       'Walc', 'health', 'absences', 'G1', 'G2', 'G3'],\n",
       "      dtype='object')"
      ]
     },
     "execution_count": 8,
     "metadata": {},
     "output_type": "execute_result"
    }
   ],
   "source": [
    "port.columns"
   ]
  },
  {
   "cell_type": "code",
   "execution_count": 9,
   "id": "bd944cda",
   "metadata": {},
   "outputs": [
    {
     "name": "stdout",
     "output_type": "stream",
     "text": [
      "<class 'pandas.core.frame.DataFrame'>\n",
      "RangeIndex: 649 entries, 0 to 648\n",
      "Data columns (total 33 columns):\n",
      " #   Column      Non-Null Count  Dtype \n",
      "---  ------      --------------  ----- \n",
      " 0   school      649 non-null    object\n",
      " 1   sex         649 non-null    object\n",
      " 2   age         649 non-null    int64 \n",
      " 3   address     649 non-null    object\n",
      " 4   famsize     649 non-null    object\n",
      " 5   Pstatus     649 non-null    object\n",
      " 6   Medu        649 non-null    int64 \n",
      " 7   Fedu        649 non-null    int64 \n",
      " 8   Mjob        649 non-null    object\n",
      " 9   Fjob        649 non-null    object\n",
      " 10  reason      649 non-null    object\n",
      " 11  guardian    649 non-null    object\n",
      " 12  traveltime  649 non-null    int64 \n",
      " 13  studytime   649 non-null    int64 \n",
      " 14  failures    649 non-null    int64 \n",
      " 15  schoolsup   649 non-null    object\n",
      " 16  famsup      649 non-null    object\n",
      " 17  paid        649 non-null    object\n",
      " 18  activities  649 non-null    object\n",
      " 19  nursery     649 non-null    object\n",
      " 20  higher      649 non-null    object\n",
      " 21  internet    649 non-null    object\n",
      " 22  romantic    649 non-null    object\n",
      " 23  famrel      649 non-null    int64 \n",
      " 24  freetime    649 non-null    int64 \n",
      " 25  goout       649 non-null    int64 \n",
      " 26  Dalc        649 non-null    int64 \n",
      " 27  Walc        649 non-null    int64 \n",
      " 28  health      649 non-null    int64 \n",
      " 29  absences    649 non-null    int64 \n",
      " 30  G1          649 non-null    int64 \n",
      " 31  G2          649 non-null    int64 \n",
      " 32  G3          649 non-null    int64 \n",
      "dtypes: int64(16), object(17)\n",
      "memory usage: 167.4+ KB\n"
     ]
    }
   ],
   "source": [
    "port.info()"
   ]
  },
  {
   "cell_type": "markdown",
   "id": "89c76be3",
   "metadata": {},
   "source": [
    "When comparing the first index of both tables you can see that they are the same person, which hopefully implies that we are comparing between the same two sets of students. However math has less rows than portugese which means that not all students in our portugese sample is taking math. The only difference between tables is their absences and grades. So when comparing you will notice that portugese tables will have more overall data.\\"
   ]
  },
  {
   "cell_type": "markdown",
   "id": "d0deaee2",
   "metadata": {},
   "source": [
    "The below will be the Histograms related to student grades, age, and study time."
   ]
  },
  {
   "cell_type": "code",
   "execution_count": 50,
   "id": "983dfb78",
   "metadata": {},
   "outputs": [
    {
     "data": {
      "image/png": "[encoded data removed]",
      "text/plain": [
       "<Figure size 1296x720 with 6 Axes>"
      ]
     },
     "metadata": {
      "needs_background": "light"
     },
     "output_type": "display_data"
    }
   ],
   "source": [
    "fig, axs = plt.subplots(nrows = 2, ncols = 3)\n",
    "\n",
    "axs[0,0].hist(pandas.array(math[\"G1\"]))\n",
    "axs[0,0].set_title(\"Math G1\")\n",
    "axs[0,1].hist(pandas.array(math[\"G2\"]))\n",
    "axs[0,1].set_title(\"Math G2\")\n",
    "axs[0,2].hist(pandas.array(math[\"G3\"]))\n",
    "axs[0,2].set_title(\"Math G3\")\n",
    "\n",
    "axs[1,0].hist(pandas.array(port[\"G1\"]))\n",
    "axs[1,0].set_title(\"Portugese G1\")\n",
    "axs[1,1].hist(pandas.array(port[\"G2\"]))\n",
    "axs[1,1].set_title(\"Portugese G2\")\n",
    "axs[1,2].hist(pandas.array(port[\"G3\"]))\n",
    "axs[1,2].set_title(\"Portugese G3\")\n",
    "\n",
    "fig = matplotlib.pyplot.gcf()\n",
    "fig.set_size_inches(18, 10)\n",
    "\n",
    "fig.tight_layout()\n",
    "plt.show()"
   ]
  },
  {
   "cell_type": "code",
   "execution_count": 52,
   "id": "5a5df5a8",
   "metadata": {},
   "outputs": [
    {
     "data": {
      "image/png": "[encoded data removed]",
      "text/plain": [
       "<Figure size 648x360 with 2 Axes>"
      ]
     },
     "metadata": {
      "needs_background": "light"
     },
     "output_type": "display_data"
    }
   ],
   "source": [
    "fig, axs = plt.subplots(nrows = 1, ncols = 2)\n",
    "\n",
    "axs[0].hist(pandas.array(math[\"age\"]))\n",
    "axs[0].set_title(\"Math Age\")\n",
    "axs[1].hist(pandas.array(port[\"age\"]))\n",
    "axs[1].set_title(\"Portugese Age\")\n",
    "\n",
    "fig = matplotlib.pyplot.gcf()\n",
    "fig.set_size_inches(9,5)\n",
    "\n",
    "fig.tight_layout()\n",
    "plt.show()"
   ]
  },
  {
   "cell_type": "code",
   "execution_count": 53,
   "id": "e171930d",
   "metadata": {},
   "outputs": [
    {
     "data": {
      "image/png": "[encoded data removed]",
      "text/plain": [
       "<Figure size 648x360 with 2 Axes>"
      ]
     },
     "metadata": {
      "needs_background": "light"
     },
     "output_type": "display_data"
    }
   ],
   "source": [
    "fig, axs = plt.subplots(nrows = 1, ncols = 2)\n",
    "\n",
    "axs[0].hist(pandas.array(math[\"studytime\"]))\n",
    "axs[0].set_title(\"Math Study Time\")\n",
    "axs[1].hist(pandas.array(port[\"studytime\"]))\n",
    "axs[1].set_title(\"Portugese Study Time\")\n",
    "\n",
    "fig = matplotlib.pyplot.gcf()\n",
    "fig.set_size_inches(9,5)\n",
    "\n",
    "fig.tight_layout()\n",
    "plt.show()"
   ]
  },
  {
   "cell_type": "markdown",
   "id": "01299901",
   "metadata": {},
   "source": [
    "The below will be the box plots for the same factors above"
   ]
  },
  {
   "cell_type": "code",
   "execution_count": 96,
   "id": "6c09159b",
   "metadata": {},
   "outputs": [
    {
     "data": {
      "image/png": "[encoded data removed]",
      "text/plain": [
       "<Figure size 1296x720 with 6 Axes>"
      ]
     },
     "metadata": {
      "needs_background": "light"
     },
     "output_type": "display_data"
    }
   ],
   "source": [
    "fig, axs = plt.subplots(nrows = 2, ncols = 3)\n",
    "\n",
    "axs[0,0].boxplot(pandas.array(math[\"G1\"]), vert = False)\n",
    "axs[0,0].set_title(\"Math G1\")\n",
    "axs[0,1].boxplot(pandas.array(math[\"G2\"]), vert = False)\n",
    "axs[0,1].set_title(\"Math G2\")\n",
    "axs[0,2].boxplot(pandas.array(math[\"G3\"]), vert = False)\n",
    "axs[0,2].set_title(\"Math G3\")\n",
    "\n",
    "axs[1,0].boxplot(pandas.array(port[\"G1\"]), vert = False)\n",
    "axs[1,0].set_title(\"Portugese G1\")\n",
    "axs[1,1].boxplot(pandas.array(port[\"G2\"]), vert = False)\n",
    "axs[1,1].set_title(\"Portugese G2\")\n",
    "axs[1,2].boxplot(pandas.array(port[\"G3\"]), vert = False)\n",
    "axs[1,2].set_title(\"Portugese G3\")\n",
    "\n",
    "fig = matplotlib.pyplot.gcf()\n",
    "fig.set_size_inches(18, 10)\n",
    "\n",
    "fig.tight_layout()\n",
    "plt.show()"
   ]
  },
  {
   "cell_type": "code",
   "execution_count": 55,
   "id": "56615275",
   "metadata": {},
   "outputs": [
    {
     "data": {
      "image/png": "[encoded data removed]",
      "text/plain": [
       "<Figure size 648x360 with 2 Axes>"
      ]
     },
     "metadata": {
      "needs_background": "light"
     },
     "output_type": "display_data"
    }
   ],
   "source": [
    "fig, axs = plt.subplots(nrows = 1, ncols = 2)\n",
    "\n",
    "axs[0].boxplot(pandas.array(math[\"age\"]))\n",
    "axs[0].set_title(\"Math Age\")\n",
    "axs[1].boxplot(pandas.array(port[\"age\"]))\n",
    "axs[1].set_title(\"Portugese Age\")\n",
    "\n",
    "fig = matplotlib.pyplot.gcf()\n",
    "fig.set_size_inches(9,5)\n",
    "\n",
    "fig.tight_layout()\n",
    "plt.show()"
   ]
  },
  {
   "cell_type": "code",
   "execution_count": 56,
   "id": "fa8e575c",
   "metadata": {},
   "outputs": [
    {
     "data": {
      "image/png": "[encoded data removed]",
      "text/plain": [
       "<Figure size 648x360 with 2 Axes>"
      ]
     },
     "metadata": {
      "needs_background": "light"
     },
     "output_type": "display_data"
    }
   ],
   "source": [
    "fig, axs = plt.subplots(nrows = 1, ncols = 2)\n",
    "\n",
    "axs[0].boxplot(pandas.array(math[\"studytime\"]))\n",
    "axs[0].set_title(\"Math Study Time\")\n",
    "axs[1].boxplot(pandas.array(port[\"studytime\"]))\n",
    "axs[1].set_title(\"Portugese Study Time\")\n",
    "\n",
    "fig = matplotlib.pyplot.gcf()\n",
    "fig.set_size_inches(9,5)\n",
    "\n",
    "fig.tight_layout()\n",
    "plt.show()"
   ]
  },
  {
   "cell_type": "code",
   "execution_count": 65,
   "id": "ac007a89",
   "metadata": {},
   "outputs": [
    {
     "data": {
      "text/plain": [
       "24     10\n",
       "32     13\n",
       "37     13\n",
       "38     11\n",
       "39     14\n",
       "       ..\n",
       "640     7\n",
       "641    14\n",
       "643     7\n",
       "644    10\n",
       "648    10\n",
       "Name: G1, Length: 197, dtype: int64"
      ]
     },
     "execution_count": 65,
     "metadata": {},
     "output_type": "execute_result"
    }
   ],
   "source": [
    "port[\"G1\"][port[\"address\"] == \"R\"]"
   ]
  },
  {
   "cell_type": "code",
   "execution_count": 66,
   "id": "e0e9c21d",
   "metadata": {},
   "outputs": [
    {
     "data": {
      "text/plain": [
       "0       0\n",
       "1       9\n",
       "2      12\n",
       "3      14\n",
       "4      11\n",
       "       ..\n",
       "638    14\n",
       "642     6\n",
       "645    15\n",
       "646    11\n",
       "647    10\n",
       "Name: G1, Length: 452, dtype: int64"
      ]
     },
     "execution_count": 66,
     "metadata": {},
     "output_type": "execute_result"
    }
   ],
   "source": [
    "port[\"G1\"][port[\"address\"] == \"U\"]"
   ]
  },
  {
   "cell_type": "code",
   "execution_count": 84,
   "id": "809ca95f",
   "metadata": {},
   "outputs": [
    {
     "data": {
      "image/png": "[encoded data removed]",
      "text/plain": [
       "<Figure size 1296x720 with 6 Axes>"
      ]
     },
     "metadata": {
      "needs_background": "light"
     },
     "output_type": "display_data"
    }
   ],
   "source": [
    "fig, axs = plt.subplots(nrows = 2, ncols = 3)\n",
    "\n",
    "contents = [\"U\", \"R\"] #type\n",
    "quarter = [\"G1\", \"G2\", \"G3\"]\n",
    "#response\n",
    "math_avg_grades = []\n",
    "port_avg_grades = []\n",
    "for G in quarter: #for the types\n",
    "    math_current = []\n",
    "    port_current = []\n",
    "    for ps in contents:\n",
    "        #take the list find the avg and append\n",
    "        math_current.append(math[G][math[\"address\"] == ps].mean())\n",
    "        port_current.append(port[G][port[\"address\"] == ps].mean())\n",
    "    math_avg_grades.append(math_current)\n",
    "    port_avg_grades.append(port_current)\n",
    "\n",
    "axs[0,0].bar(contents, math_avg_grades[0])\n",
    "axs[0,0].set_title(\"Math G1\")\n",
    "axs[0,1].bar(contents, math_avg_grades[1])\n",
    "axs[0,1].set_title(\"Math G2\")\n",
    "axs[0,2].bar(contents, math_avg_grades[2])\n",
    "axs[0,2].set_title(\"Math G3\")\n",
    "\n",
    "axs[1,0].bar(contents, port_avg_grades[0])\n",
    "axs[1,0].set_title(\"Portugese G1\")\n",
    "axs[1,1].bar(contents, port_avg_grades[1])\n",
    "axs[1,1].set_title(\"Portugese G2\")\n",
    "axs[1,2].bar(contents, port_avg_grades[2])\n",
    "axs[1,2].set_title(\"Portugese G3\")\n",
    "\n",
    "fig = matplotlib.pyplot.gcf()\n",
    "fig.set_size_inches(18,10)\n",
    "\n",
    "fig.tight_layout()\n",
    "plt.show()"
   ]
  },
  {
   "cell_type": "markdown",
   "id": "20036a51",
   "metadata": {},
   "source": [
    "We can see that living in an Urban Area seems to have a slight improvement"
   ]
  },
  {
   "cell_type": "code",
   "execution_count": 86,
   "id": "055c960e",
   "metadata": {},
   "outputs": [
    {
     "data": {
      "image/png": "[encoded data removed]",
      "text/plain": [
       "<Figure size 1296x720 with 6 Axes>"
      ]
     },
     "metadata": {
      "needs_background": "light"
     },
     "output_type": "display_data"
    }
   ],
   "source": [
    "fig, axs = plt.subplots(nrows = 2, ncols = 3)\n",
    "\n",
    "contents = [\"M\", \"F\"] #type\n",
    "quarter = [\"G1\", \"G2\", \"G3\"]\n",
    "#response\n",
    "math_avg_grades = []\n",
    "port_avg_grades = []\n",
    "for G in quarter: #for the types\n",
    "    math_current = []\n",
    "    port_current = []\n",
    "    for ps in contents:\n",
    "        #take the list find the avg and append\n",
    "        math_current.append(math[G][math[\"sex\"] == ps].mean())\n",
    "        port_current.append(port[G][port[\"sex\"] == ps].mean())\n",
    "    math_avg_grades.append(math_current)\n",
    "    port_avg_grades.append(port_current)\n",
    "\n",
    "axs[0,0].bar(contents, math_avg_grades[0])\n",
    "axs[0,0].set_title(\"Math G1\")\n",
    "axs[0,1].bar(contents, math_avg_grades[1])\n",
    "axs[0,1].set_title(\"Math G2\")\n",
    "axs[0,2].bar(contents, math_avg_grades[2])\n",
    "axs[0,2].set_title(\"Math G3\")\n",
    "\n",
    "axs[1,0].bar(contents, port_avg_grades[0])\n",
    "axs[1,0].set_title(\"Portugese G1\")\n",
    "axs[1,1].bar(contents, port_avg_grades[1])\n",
    "axs[1,1].set_title(\"Portugese G2\")\n",
    "axs[1,2].bar(contents, port_avg_grades[2])\n",
    "axs[1,2].set_title(\"Portugese G3\")\n",
    "\n",
    "fig = matplotlib.pyplot.gcf()\n",
    "fig.set_size_inches(18,10)\n",
    "\n",
    "fig.tight_layout()\n",
    "plt.show()"
   ]
  },
  {
   "cell_type": "code",
   "execution_count": 90,
   "id": "eaee79c9",
   "metadata": {},
   "outputs": [
    {
     "data": {
      "image/png": "[encoded data removed]",
      "text/plain": [
       "<Figure size 1296x720 with 6 Axes>"
      ]
     },
     "metadata": {
      "needs_background": "light"
     },
     "output_type": "display_data"
    }
   ],
   "source": [
    "fig, axs = plt.subplots(nrows = 2, ncols = 3)\n",
    "\n",
    "contents = [1,2,3,4] #type\n",
    "quarter = [\"G1\", \"G2\", \"G3\"]\n",
    "#response\n",
    "math_avg_grades = []\n",
    "port_avg_grades = []\n",
    "for G in quarter: #for the types\n",
    "    math_current = []\n",
    "    port_current = []\n",
    "    for ps in contents:\n",
    "        #take the list find the avg and append\n",
    "        math_current.append(math[G][math[\"Medu\"] == ps].mean())\n",
    "        port_current.append(port[G][port[\"Medu\"] == ps].mean())\n",
    "    math_avg_grades.append(math_current)\n",
    "    port_avg_grades.append(port_current)\n",
    "\n",
    "axs[0,0].bar(contents, math_avg_grades[0])\n",
    "axs[0,0].set_title(\"Math G1\")\n",
    "axs[0,1].bar(contents, math_avg_grades[1])\n",
    "axs[0,1].set_title(\"Math G2\")\n",
    "axs[0,2].bar(contents, math_avg_grades[2])\n",
    "axs[0,2].set_title(\"Math G3\")\n",
    "\n",
    "axs[1,0].bar(contents, port_avg_grades[0])\n",
    "axs[1,0].set_title(\"Portugese G1\")\n",
    "axs[1,1].bar(contents, port_avg_grades[1])\n",
    "axs[1,1].set_title(\"Portugese G2\")\n",
    "axs[1,2].bar(contents, port_avg_grades[2])\n",
    "axs[1,2].set_title(\"Portugese G3\")\n",
    "\n",
    "fig = matplotlib.pyplot.gcf()\n",
    "fig.set_size_inches(18,10)\n",
    "\n",
    "fig.tight_layout()\n",
    "plt.show()"
   ]
  },
  {
   "cell_type": "code",
   "execution_count": 91,
   "id": "dcd2783b",
   "metadata": {},
   "outputs": [
    {
     "data": {
      "image/png": "[encoded data removed]",
      "text/plain": [
       "<Figure size 1296x720 with 6 Axes>"
      ]
     },
     "metadata": {
      "needs_background": "light"
     },
     "output_type": "display_data"
    }
   ],
   "source": [
    "fig, axs = plt.subplots(nrows = 2, ncols = 3)\n",
    "\n",
    "contents = [1,2,3,4] #type\n",
    "quarter = [\"G1\", \"G2\", \"G3\"]\n",
    "#response\n",
    "math_avg_grades = []\n",
    "port_avg_grades = []\n",
    "for G in quarter: #for the types\n",
    "    math_current = []\n",
    "    port_current = []\n",
    "    for ps in contents:\n",
    "        #take the list find the avg and append\n",
    "        math_current.append(math[G][math[\"Fedu\"] == ps].mean())\n",
    "        port_current.append(port[G][port[\"Fedu\"] == ps].mean())\n",
    "    math_avg_grades.append(math_current)\n",
    "    port_avg_grades.append(port_current)\n",
    "\n",
    "axs[0,0].bar(contents, math_avg_grades[0])\n",
    "axs[0,0].set_title(\"Math G1\")\n",
    "axs[0,1].bar(contents, math_avg_grades[1])\n",
    "axs[0,1].set_title(\"Math G2\")\n",
    "axs[0,2].bar(contents, math_avg_grades[2])\n",
    "axs[0,2].set_title(\"Math G3\")\n",
    "\n",
    "axs[1,0].bar(contents, port_avg_grades[0])\n",
    "axs[1,0].set_title(\"Portugese G1\")\n",
    "axs[1,1].bar(contents, port_avg_grades[1])\n",
    "axs[1,1].set_title(\"Portugese G2\")\n",
    "axs[1,2].bar(contents, port_avg_grades[2])\n",
    "axs[1,2].set_title(\"Portugese G3\")\n",
    "\n",
    "fig = matplotlib.pyplot.gcf()\n",
    "fig.set_size_inches(18,10)\n",
    "\n",
    "fig.tight_layout()\n",
    "plt.show()"
   ]
  },
  {
   "cell_type": "code",
   "execution_count": 94,
   "id": "9835bd0e",
   "metadata": {},
   "outputs": [
    {
     "data": {
      "image/png": "[encoded data removed]",
      "text/plain": [
       "<Figure size 1296x720 with 6 Axes>"
      ]
     },
     "metadata": {
      "needs_background": "light"
     },
     "output_type": "display_data"
    }
   ],
   "source": [
    "fig, axs = plt.subplots(nrows = 2, ncols = 3)\n",
    "\n",
    "contents = [\"yes\", \"no\"] #type\n",
    "quarter = [\"G1\", \"G2\", \"G3\"]\n",
    "#response\n",
    "math_avg_grades = []\n",
    "port_avg_grades = []\n",
    "for G in quarter: #for the types\n",
    "    math_current = []\n",
    "    port_current = []\n",
    "    for ps in contents:\n",
    "        #take the list find the avg and append\n",
    "        math_current.append(math[G][math[\"internet\"] == ps].mean())\n",
    "        port_current.append(port[G][port[\"internet\"] == ps].mean())\n",
    "    math_avg_grades.append(math_current)\n",
    "    port_avg_grades.append(port_current)\n",
    "\n",
    "axs[0,0].bar(contents, math_avg_grades[0])\n",
    "axs[0,0].set_title(\"Math G1\")\n",
    "axs[0,1].bar(contents, math_avg_grades[1])\n",
    "axs[0,1].set_title(\"Math G2\")\n",
    "axs[0,2].bar(contents, math_avg_grades[2])\n",
    "axs[0,2].set_title(\"Math G3\")\n",
    "\n",
    "axs[1,0].bar(contents, port_avg_grades[0])\n",
    "axs[1,0].set_title(\"Portugese G1\")\n",
    "axs[1,1].bar(contents, port_avg_grades[1])\n",
    "axs[1,1].set_title(\"Portugese G2\")\n",
    "axs[1,2].bar(contents, port_avg_grades[2])\n",
    "axs[1,2].set_title(\"Portugese G3\")\n",
    "\n",
    "fig = matplotlib.pyplot.gcf()\n",
    "fig.set_size_inches(18,10)\n",
    "\n",
    "fig.tight_layout()\n",
    "plt.show()"
   ]
  }
 ],
 "metadata": {
  "kernelspec": {
   "display_name": "Python 3 (ipykernel)",
   "language": "python",
   "name": "python3"
  },
  "language_info": {
   "codemirror_mode": {
    "name": "ipython",
    "version": 3
   },
   "file_extension": ".py",
   "mimetype": "text/x-python",
   "name": "python",
   "nbconvert_exporter": "python",
   "pygments_lexer": "ipython3",
   "version": "3.9.12"
  }
 },
 "nbformat": 4,
 "nbformat_minor": 5
}
